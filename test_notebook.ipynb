{
 "cells": [
  {
   "cell_type": "code",
   "execution_count": 1,
   "metadata": {},
   "outputs": [],
   "source": [
    "%load_ext autoreload\n",
    "%autoreload 2\n",
    "\n",
    "import network"
   ]
  },
  {
   "cell_type": "code",
   "execution_count": 20,
   "metadata": {},
   "outputs": [
    {
     "name": "stdout",
     "output_type": "stream",
     "text": [
      "----------------------------------------------------------------\n",
      "        Layer (type)               Output Shape         Param #\n",
      "================================================================\n",
      "            Conv2d-1         [-1, 64, 224, 224]             640\n",
      "            Conv2d-2         [-1, 64, 112, 112]          36,928\n",
      "       BatchNorm2d-3         [-1, 64, 112, 112]             128\n",
      "            Conv2d-4        [-1, 128, 112, 112]          73,856\n",
      "            Conv2d-5          [-1, 128, 56, 56]         147,584\n",
      "       BatchNorm2d-6          [-1, 128, 56, 56]             256\n",
      "            Conv2d-7          [-1, 256, 56, 56]         295,168\n",
      "            Conv2d-8          [-1, 256, 56, 56]         590,080\n",
      "            Conv2d-9          [-1, 256, 28, 28]         590,080\n",
      "      BatchNorm2d-10          [-1, 256, 28, 28]             512\n",
      "           Conv2d-11          [-1, 512, 28, 28]       1,180,160\n",
      "           Conv2d-12          [-1, 512, 28, 28]       2,359,808\n",
      "           Conv2d-13          [-1, 512, 28, 28]       2,359,808\n",
      "      BatchNorm2d-14          [-1, 512, 28, 28]           1,024\n",
      "           Conv2d-15          [-1, 512, 28, 28]       2,359,808\n",
      "           Conv2d-16          [-1, 512, 28, 28]       2,359,808\n",
      "           Conv2d-17          [-1, 512, 28, 28]       2,359,808\n",
      "      BatchNorm2d-18          [-1, 512, 28, 28]           1,024\n",
      "           Conv2d-19          [-1, 512, 28, 28]       2,359,808\n",
      "           Conv2d-20          [-1, 512, 28, 28]       2,359,808\n",
      "           Conv2d-21          [-1, 512, 28, 28]       2,359,808\n",
      "      BatchNorm2d-22          [-1, 512, 28, 28]           1,024\n",
      "           Conv2d-23          [-1, 256, 28, 28]       1,179,904\n",
      "           Conv2d-24          [-1, 256, 28, 28]         590,080\n",
      "           Conv2d-25          [-1, 256, 28, 28]         590,080\n",
      "      BatchNorm2d-26          [-1, 256, 28, 28]             512\n",
      "  ConvTranspose2d-27          [-1, 128, 56, 56]         524,416\n",
      "           Conv2d-28          [-1, 128, 56, 56]         147,584\n",
      "           Conv2d-29          [-1, 128, 56, 56]         147,584\n",
      "           Conv2d-30          [-1, 313, 56, 56]          40,377\n",
      "================================================================\n",
      "Total params: 25,017,465\n",
      "Trainable params: 25,017,465\n",
      "Non-trainable params: 0\n",
      "----------------------------------------------------------------\n",
      "Input size (MB): 0.19\n",
      "Forward/backward pass size (MB): 129.99\n",
      "Params size (MB): 95.43\n",
      "Estimated Total Size (MB): 225.61\n",
      "----------------------------------------------------------------\n"
     ]
    }
   ],
   "source": [
    "net = network.Net()"
   ]
  }
 ],
 "metadata": {
  "kernelspec": {
   "display_name": "Python 3",
   "language": "python",
   "name": "python3"
  },
  "language_info": {
   "codemirror_mode": {
    "name": "ipython",
    "version": 3
   },
   "file_extension": ".py",
   "mimetype": "text/x-python",
   "name": "python",
   "nbconvert_exporter": "python",
   "pygments_lexer": "ipython3",
   "version": "3.7.4"
  }
 },
 "nbformat": 4,
 "nbformat_minor": 2
}
