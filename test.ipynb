{
 "cells": [
  {
   "cell_type": "code",
   "execution_count": null,
   "metadata": {},
   "outputs": [],
   "source": [
    "%load_ext autoreload\n",
    "%autoreload 2\n",
    "\n",
    "import sys\n",
    "import glob\n",
    "import torch\n",
    "import numpy as np\n",
    "import matplotlib.pyplot as plt\n",
    "from tqdm import tqdm\n",
    "from skimage import io, transform, color\n",
    "from colorize import network, util\n",
    "\n",
    "use_cuda = torch.cuda.is_available()\n",
    "device = torch.device(\"cuda:0\" if use_cuda else \"cpu\")\n",
    "torch.backends.cudnn.benchmark = True\n",
    "print('Using device:', device)"
   ]
  },
  {
   "cell_type": "code",
   "execution_count": null,
   "metadata": {},
   "outputs": [],
   "source": [
    "with open('data/train.txt', 'r') as f:\n",
    "    train_images = f.read().splitlines()[:3]\n",
    "\n",
    "with open('data/test.txt', 'r') as f:\n",
    "    test_images = f.read().splitlines()\n",
    "\n",
    "# Show some random images\n",
    "for path in np.random.choice(train_images, 3, replace=False):\n",
    "    L, ab = util.imread(path)\n",
    "    \n",
    "    # Show encoded/decoded\n",
    "    Y = transform.resize(ab, (56, 56))\n",
    "    Z = util.soft_encode(Y)\n",
    "    Y_decoded = util.decode(Z)\n",
    "    Y_decoded = transform.resize(Y_decoded, util.input_size)\n",
    "    \n",
    "    util.side_by_side((L, ab, 'Original'), (L, Y_decoded, 'Encoded/decoded'))"
   ]
  },
  {
   "cell_type": "code",
   "execution_count": null,
   "metadata": {},
   "outputs": [],
   "source": [
    "# Train model\n",
    "net = network.Network()\n",
    "net(torch.zeros((1, 1, *util.input_size)), summary=True)\n",
    "util.train(net, train_images, device, epochs=15)"
   ]
  },
  {
   "cell_type": "code",
   "execution_count": null,
   "metadata": {},
   "outputs": [],
   "source": [
    "# Load trained model\n",
    "net = network.Network()\n",
    "net.load_state_dict(torch.load('models/model_15_full.pth', map_location=device))"
   ]
  },
  {
   "cell_type": "code",
   "execution_count": null,
   "metadata": {},
   "outputs": [],
   "source": [
    "# Colorize the validation images\n",
    "to_color = np.random.choice(test_images, 10, replace=False)\n",
    "util.colorize_images(net, to_color, device)"
   ]
  }
 ],
 "metadata": {
  "kernelspec": {
   "display_name": "Python 3",
   "language": "python",
   "name": "python3"
  },
  "language_info": {
   "codemirror_mode": {
    "name": "ipython",
    "version": 3
   },
   "file_extension": ".py",
   "mimetype": "text/x-python",
   "name": "python",
   "nbconvert_exporter": "python",
   "pygments_lexer": "ipython3",
   "version": "3.7.4"
  }
 },
 "nbformat": 4,
 "nbformat_minor": 2
}
