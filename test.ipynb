{
 "cells": [
  {
   "cell_type": "code",
   "execution_count": null,
   "metadata": {},
   "outputs": [],
   "source": [
    "%load_ext autoreload\n",
    "%autoreload 2\n",
    "\n",
    "import glob\n",
    "import torch\n",
    "import numpy as np\n",
    "import matplotlib.pyplot as plt\n",
    "from tqdm import tqdm\n",
    "from skimage import io, transform, color\n",
    "from colorize import network, util\n",
    "\n",
    "use_cuda = torch.cuda.is_available()\n",
    "device = torch.device(\"cuda:0\" if use_cuda else \"cpu\")\n",
    "torch.backends.cudnn.benchmark = True\n",
    "\n",
    "print('Device:', device)"
   ]
  },
  {
   "cell_type": "code",
   "execution_count": null,
   "metadata": {},
   "outputs": [],
   "source": [
    "train_images = glob.glob(\"data/**/*.jpg\")[:-10]\n",
    "val_images = glob.glob(\"data/**/*.jpg\")[-10:]\n",
    "\n",
    "# Show some random images\n",
    "for path in np.random.choice(train_images, 3, replace=False):\n",
    "    L, ab = util.imread(path)\n",
    "    \n",
    "    # Show encoded/decoded\n",
    "    Y = transform.resize(ab, (56, 56))\n",
    "    Z = util.soft_encode(Y)\n",
    "    Y_decoded = util.decode(Z)\n",
    "    Y_decoded = transform.resize(Y_decoded, (224, 224))\n",
    "    \n",
    "    util.side_by_side(L, ab, L, Y_decoded)"
   ]
  },
  {
   "cell_type": "code",
   "execution_count": null,
   "metadata": {},
   "outputs": [],
   "source": [
    "# Train model\n",
    "net = network.Network()\n",
    "net(torch.zeros((1, 1, 224, 224)), summary=True)\n",
    "util.train(net, train_images, device, epochs=5)"
   ]
  },
  {
   "cell_type": "code",
   "execution_count": null,
   "metadata": {},
   "outputs": [],
   "source": [
    "# Load trained model\n",
    "net = network.Network()\n",
    "net.load_state_dict(torch.load('models/model_1_full_876b954262efd3be6621e91ef6b99a6e6dff7cc9.pth', map_location=device))"
   ]
  },
  {
   "cell_type": "code",
   "execution_count": null,
   "metadata": {},
   "outputs": [],
   "source": [
    "# Colorize the validation images\n",
    "util.colorize_images(net, val_images, device)"
   ]
  }
 ],
 "metadata": {
  "kernelspec": {
   "display_name": "Python 3",
   "language": "python",
   "name": "python3"
  },
  "language_info": {
   "codemirror_mode": {
    "name": "ipython",
    "version": 3
   },
   "file_extension": ".py",
   "mimetype": "text/x-python",
   "name": "python",
   "nbconvert_exporter": "python",
   "pygments_lexer": "ipython3",
   "version": "3.7.4"
  }
 },
 "nbformat": 4,
 "nbformat_minor": 2
}
