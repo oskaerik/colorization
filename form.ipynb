{
 "cells": [
  {
   "cell_type": "code",
   "execution_count": null,
   "metadata": {},
   "outputs": [],
   "source": [
    "import os\n",
    "import pickle\n",
    "import numpy as np\n",
    "import matplotlib.pyplot as plt\n",
    "\n",
    "form_dir = 'form_200507'"
   ]
  },
  {
   "cell_type": "code",
   "execution_count": null,
   "metadata": {},
   "outputs": [],
   "source": [
    "# Parse CSV with answers\n",
    "with open(os.path.join(form_dir, 'form.csv'), 'r') as f:\n",
    "    answers = f.read().splitlines()\n",
    "answers = [list(eval(answer))[1:] for answer in answers[1:]]\n",
    "answers = np.array([[0 if a == 'a' else 1 for a in answer] for answer in answers])\n",
    "\n",
    "# Adjust ordering\n",
    "order = np.load(os.path.join(form_dir, 'order.npy'))\n",
    "answers = (answers + order) % 2\n",
    "\n",
    "# Calculate mean answers for each question\n",
    "mean = answers.mean(axis=0)\n",
    "\n",
    "# Load image paths\n",
    "with open(os.path.join(form_dir, 'images.pkl'), 'rb') as f:\n",
    "    images = pickle.load(f)\n",
    "images = [os.path.split(image)[1] for image in images]"
   ]
  },
  {
   "cell_type": "code",
   "execution_count": null,
   "metadata": {},
   "outputs": [],
   "source": [
    "# Show the images and their percent\n",
    "models = ['coco', 'dogs']\n",
    "def show_pair(image, percent):\n",
    "    fig = plt.figure(figsize=(16, 9))\n",
    "    for i, model in enumerate(models, start=1):\n",
    "        ax = fig.add_subplot(1, len(models), i)\n",
    "        plt.imshow(plt.imread(os.path.join(form_dir, model, image)))\n",
    "        p = percent if model == 'dogs' else 1 - percent\n",
    "        ax.set_title(f'{model.title()} {int(np.round(p*100))}%', fontsize=24)\n",
    "        plt.axis('off')\n",
    "    fig.tight_layout()\n",
    "    plt.show()\n",
    "\n",
    "sorted_by_mean = sorted(np.arange(len(mean)), key=lambda x: mean[x])\n",
    "for i in sorted_by_mean:\n",
    "    show_pair(images[i], mean[i])"
   ]
  }
 ],
 "metadata": {
  "kernelspec": {
   "display_name": "Python 3",
   "language": "python",
   "name": "python3"
  },
  "language_info": {
   "codemirror_mode": {
    "name": "ipython",
    "version": 3
   },
   "file_extension": ".py",
   "mimetype": "text/x-python",
   "name": "python",
   "nbconvert_exporter": "python",
   "pygments_lexer": "ipython3",
   "version": "3.7.4"
  }
 },
 "nbformat": 4,
 "nbformat_minor": 2
}
